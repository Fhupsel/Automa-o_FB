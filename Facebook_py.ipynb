{
  "nbformat": 4,
  "nbformat_minor": 0,
  "metadata": {
    "colab": {
      "provenance": [],
      "authorship_tag": "ABX9TyOmvxJwuAsgTns6mz14szwn",
      "include_colab_link": true
    },
    "kernelspec": {
      "name": "python3",
      "display_name": "Python 3"
    },
    "language_info": {
      "name": "python"
    }
  },
  "cells": [
    {
      "cell_type": "markdown",
      "metadata": {
        "id": "view-in-github",
        "colab_type": "text"
      },
      "source": [
        "<a href=\"https://colab.research.google.com/github/Fhupsel/Automacao_FB/blob/main/Facebook_py.ipynb\" target=\"_parent\"><img src=\"https://colab.research.google.com/assets/colab-badge.svg\" alt=\"Open In Colab\"/></a>"
      ]
    },
    {
      "cell_type": "code",
      "source": [
        "token = \"EAAL6zwdQ2ZCcBO1l1PcMMBtszDaqQ0VOo0OAqQpn5sXXo3XZADljsZB6gSaQ0aSdgtJNgsL1CZC7mL0m2emiZACjjj3GB3XgdzyOeXZCVT3RwZA2vLFv2Uo46cZAd8M8gYKhLCI8ZAnEK5dU1QKjRZBpQIqd78hZBUa1yOGNrfk9si0lkKNUu6RuXf80VOb28gYjkX82PdRZBTo8f8ksGKoq2wLEGqExNJF9lY8ZD\""
      ],
      "metadata": {
        "id": "Y9pffqlKw8fT"
      },
      "execution_count": 43,
      "outputs": []
    },
    {
      "cell_type": "code",
      "source": [
        "pip install requests"
      ],
      "metadata": {
        "colab": {
          "base_uri": "https://localhost:8080/"
        },
        "id": "SFmtntbnxBpb",
        "outputId": "96d56c6a-c655-41f7-9f6d-76ddeeb3e273"
      },
      "execution_count": 44,
      "outputs": [
        {
          "output_type": "stream",
          "name": "stdout",
          "text": [
            "Requirement already satisfied: requests in /usr/local/lib/python3.10/dist-packages (2.31.0)\n",
            "Requirement already satisfied: charset-normalizer<4,>=2 in /usr/local/lib/python3.10/dist-packages (from requests) (3.3.2)\n",
            "Requirement already satisfied: idna<4,>=2.5 in /usr/local/lib/python3.10/dist-packages (from requests) (3.6)\n",
            "Requirement already satisfied: urllib3<3,>=1.21.1 in /usr/local/lib/python3.10/dist-packages (from requests) (2.0.7)\n",
            "Requirement already satisfied: certifi>=2017.4.17 in /usr/local/lib/python3.10/dist-packages (from requests) (2023.11.17)\n"
          ]
        }
      ]
    },
    {
      "cell_type": "code",
      "source": [
        "import requests\n",
        "#Your Access Keys\n",
        "page_id_1 = 223744874146168\n",
        "# Your Page Access Token\n",
        "facebook_access_token_1 = \"EAAL6zwdQ2ZCcBO3cEm9ZAkRoSJnMvmkP29KlojgZBLDotJ5SFDRKfpKD07IVslC6GDVe7iZBTv7gB623mHSjIcVMMVovAzlsv3xKZBtHyZB6bgK63SdGQ7gI6jfzYpvXbRBYlZBzlTybxzsFzBbKCkvSzhXc54ihwE5MGZA2L4J1ftn4HBuulQmfbr5e7TqdywEZBTjcZBgWKKeW7fPsn0fV3OLL0Rh8lhTf4ZD\"\n",
        "# Post Content as Text\n",
        "msg = \"hi buddy\"\n",
        "post_url = 'https://graph.facebook.com/{}/feed'.format(page_id_1)\n",
        "payload = {\n",
        "'message': msg,\n",
        "'access_token': facebook_access_token_1\n",
        "}\n",
        "r = requests.post(post_url, data=payload)\n",
        "print(r.text)"
      ],
      "metadata": {
        "colab": {
          "base_uri": "https://localhost:8080/"
        },
        "id": "IDT3fYQWxDzh",
        "outputId": "85ea8b4a-b84a-40cb-a5e3-3b0d2f45bc2c"
      },
      "execution_count": 47,
      "outputs": [
        {
          "output_type": "stream",
          "name": "stdout",
          "text": [
            "{\"id\":\"223744874146168_122109043460171951\"}\n"
          ]
        }
      ]
    }
  ]
}